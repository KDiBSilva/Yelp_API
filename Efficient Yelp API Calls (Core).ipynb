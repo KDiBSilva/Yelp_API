{
 "cells": [
  {
   "cell_type": "code",
   "execution_count": 1,
   "id": "db155346",
   "metadata": {},
   "outputs": [],
   "source": [
    "import pandas as pd\n",
    "import numpy as np\n",
    "\n",
    "import os, json, math, time\n",
    "\n",
    "# to make yelpapi calls\n",
    "from yelpapi import YelpAPI\n",
    "\n",
    "# progress bar from tqdm_notebook\n",
    "from tqdm.notebook import tqdm_notebook\n"
   ]
  },
  {
   "cell_type": "code",
   "execution_count": 2,
   "id": "11e79bae",
   "metadata": {},
   "outputs": [
    {
     "name": "stdout",
     "output_type": "stream",
     "text": [
      "Requirement already satisfied: yelpapi in /opt/homebrew/Caskroom/miniforge/base/envs/dojo-env/lib/python3.9/site-packages (2.5.0)\n",
      "Requirement already satisfied: requests in /opt/homebrew/Caskroom/miniforge/base/envs/dojo-env/lib/python3.9/site-packages (from yelpapi) (2.28.1)\n",
      "Requirement already satisfied: charset-normalizer<3,>=2 in /opt/homebrew/Caskroom/miniforge/base/envs/dojo-env/lib/python3.9/site-packages (from requests->yelpapi) (2.0.4)\n",
      "Requirement already satisfied: urllib3<1.27,>=1.21.1 in /opt/homebrew/Caskroom/miniforge/base/envs/dojo-env/lib/python3.9/site-packages (from requests->yelpapi) (1.26.13)\n",
      "Requirement already satisfied: certifi>=2017.4.17 in /opt/homebrew/Caskroom/miniforge/base/envs/dojo-env/lib/python3.9/site-packages (from requests->yelpapi) (2022.9.24)\n",
      "Requirement already satisfied: idna<4,>=2.5 in /opt/homebrew/Caskroom/miniforge/base/envs/dojo-env/lib/python3.9/site-packages (from requests->yelpapi) (3.4)\n",
      "Requirement already satisfied: tqdm in /opt/homebrew/Caskroom/miniforge/base/envs/dojo-env/lib/python3.9/site-packages (4.64.1)\n"
     ]
    }
   ],
   "source": [
    "!pip install yelpapi\n",
    "!pip install tqdm"
   ]
  },
  {
   "cell_type": "markdown",
   "id": "68f2818a",
   "metadata": {},
   "source": [
    "# JSON with Python"
   ]
  },
  {
   "cell_type": "code",
   "execution_count": 4,
   "id": "0c40ea72",
   "metadata": {},
   "outputs": [
    {
     "data": {
      "text/plain": [
       "dict_keys(['Client-ID', 'api-key'])"
      ]
     },
     "execution_count": 4,
     "metadata": {},
     "output_type": "execute_result"
    }
   ],
   "source": [
    "# Load API Credentials\n",
    "with open('/Users/kristinadibella/.secret/yelp_api.json','r') as f: \n",
    "    login = json.load(f)\n",
    "login.keys()\n",
    "\n"
   ]
  },
  {
   "cell_type": "markdown",
   "id": "61ccde74",
   "metadata": {},
   "source": [
    "# Yelp API Packages"
   ]
  },
  {
   "cell_type": "code",
   "execution_count": 6,
   "id": "54550e38",
   "metadata": {},
   "outputs": [
    {
     "data": {
      "text/plain": [
       "<yelpapi.yelpapi.YelpAPI at 0x1270f5af0>"
      ]
     },
     "execution_count": 6,
     "metadata": {},
     "output_type": "execute_result"
    }
   ],
   "source": [
    "# Login\n",
    "yelp_api = YelpAPI(login['api-key'], timeout_s=5.0)\n",
    "yelp_api\n",
    "\n"
   ]
  },
  {
   "cell_type": "code",
   "execution_count": 7,
   "id": "817306d2",
   "metadata": {},
   "outputs": [
    {
     "name": "stdout",
     "output_type": "stream",
     "text": [
      "Help on method search_query in module yelpapi.yelpapi:\n",
      "\n",
      "search_query(**kwargs) method of yelpapi.yelpapi.YelpAPI instance\n",
      "    Query the Yelp Search API.\n",
      "    \n",
      "    documentation: https://www.yelp.com/developers/documentation/v3/business_search\n",
      "    \n",
      "    required parameters:\n",
      "        * one of either:\n",
      "            * location - text specifying a location to search for\n",
      "            * latitude and longitude\n",
      "\n"
     ]
    }
   ],
   "source": [
    "help(yelp_api.search_query)\n",
    "\n"
   ]
  },
  {
   "cell_type": "code",
   "execution_count": 14,
   "id": "e47cd8c1",
   "metadata": {},
   "outputs": [],
   "source": [
    "# set our API call parameters \n",
    "LOCATION = 'Perris,CA'\n",
    "TERM = 'Burgers'\n"
   ]
  },
  {
   "cell_type": "code",
   "execution_count": 15,
   "id": "0fa4248a",
   "metadata": {},
   "outputs": [
    {
     "data": {
      "text/plain": [
       "'Data/results_in_progress_perris_burgers.json'"
      ]
     },
     "execution_count": 15,
     "metadata": {},
     "output_type": "execute_result"
    }
   ],
   "source": [
    "# Specifying JSON_FILE filename (can include a folder)\n",
    "# include the search terms in the filename\n",
    "JSON_FILE = \"Data/results_in_progress_perris_burgers.json\"\n",
    "JSON_FILE\n",
    "\n"
   ]
  },
  {
   "cell_type": "code",
   "execution_count": 19,
   "id": "d1bbc3c8",
   "metadata": {},
   "outputs": [
    {
     "name": "stdout",
     "output_type": "stream",
     "text": [
      "[i] Data/results_in_progress_perris_burgers.json already exists.\n"
     ]
    }
   ],
   "source": [
    "## Check if JSON_FILE exists\n",
    "file_exists = os.path.isfile(JSON_FILE)\n",
    "## If it does not exist: \n",
    "if file_exists == False:\n",
    "    \n",
    "    ## CREATE ANY NEEDED FOLDERS\n",
    "    # Get the Folder Name only\n",
    "    folder = os.path.dirname(JSON_FILE)\n",
    "    ## If JSON_FILE included a folder:\n",
    "    if len(folder)>0:\n",
    "        # create the folder\n",
    "        os.makedirs(folder,exist_ok=True)\n",
    "        \n",
    "        \n",
    "    ## INFORM USER AND SAVE EMPTY LIST\n",
    "    print(f'[i] {JSON_FILE} not found. Saving empty list to file.')\n",
    "    \n",
    "    \n",
    "    # save an empty list\n",
    "    with open(JSON_FILE,'w') as f:\n",
    "        json.dump([],f)  \n",
    "# If it exists, inform user\n",
    "else:\n",
    "    print(f\"[i] {JSON_FILE} already exists.\")\n"
   ]
  },
  {
   "cell_type": "code",
   "execution_count": 20,
   "id": "a36267a8",
   "metadata": {},
   "outputs": [
    {
     "name": "stdout",
     "output_type": "stream",
     "text": [
      "- 0 previous results found.\n"
     ]
    }
   ],
   "source": [
    "## Load previous results and use len of results for offset\n",
    "with open(JSON_FILE,'r') as f:\n",
    "    previous_results = json.load(f)\n",
    "    \n",
    "## set offset based on previous results\n",
    "n_results = len(previous_results)\n",
    "print(f'- {n_results} previous results found.')\n",
    "\n"
   ]
  },
  {
   "cell_type": "code",
   "execution_count": 21,
   "id": "fd093395",
   "metadata": {},
   "outputs": [
    {
     "data": {
      "text/plain": [
       "dict_keys(['businesses', 'total', 'region'])"
      ]
     },
     "execution_count": 21,
     "metadata": {},
     "output_type": "execute_result"
    }
   ],
   "source": [
    "# use our yelp_api variable's search_query method to perform our API call\n",
    "results = yelp_api.search_query(location=LOCATION,\n",
    "                                term=TERM,\n",
    "                               offset=n_results)\n",
    "results.keys()\n",
    "\n"
   ]
  },
  {
   "cell_type": "code",
   "execution_count": 22,
   "id": "d6931e34",
   "metadata": {},
   "outputs": [
    {
     "data": {
      "text/plain": [
       "340"
      ]
     },
     "execution_count": 22,
     "metadata": {},
     "output_type": "execute_result"
    }
   ],
   "source": [
    "## How many results total?\n",
    "total_results = results['total']\n",
    "total_results\n",
    "\n"
   ]
  },
  {
   "cell_type": "code",
   "execution_count": 23,
   "id": "0a5f06ae",
   "metadata": {},
   "outputs": [
    {
     "data": {
      "text/plain": [
       "20"
      ]
     },
     "execution_count": 23,
     "metadata": {},
     "output_type": "execute_result"
    }
   ],
   "source": [
    "## How many did we get the details for?\n",
    "results_per_page = len(results['businesses'])\n",
    "results_per_page\n",
    "\n"
   ]
  },
  {
   "cell_type": "code",
   "execution_count": 24,
   "id": "f90ff159",
   "metadata": {},
   "outputs": [
    {
     "data": {
      "text/plain": [
       "17"
      ]
     },
     "execution_count": 24,
     "metadata": {},
     "output_type": "execute_result"
    }
   ],
   "source": [
    "# Use math.ceil to round up for the total number of pages of results.\n",
    "n_pages = math.ceil((results['total']-n_results)/ results_per_page)\n",
    "n_pages"
   ]
  },
  {
   "cell_type": "code",
   "execution_count": 25,
   "id": "c5623e53",
   "metadata": {},
   "outputs": [],
   "source": [
    "# join new results with old list with extend and save to file\n",
    "previous_results.extend(results['businesses'])  \n",
    "with open(JSON_FILE,'w') as f:\n",
    "     json.dump(previous_results,f)\n"
   ]
  },
  {
   "cell_type": "code",
   "execution_count": 26,
   "id": "eed28126",
   "metadata": {},
   "outputs": [
    {
     "data": {
      "application/vnd.jupyter.widget-view+json": {
       "model_id": "12ca590de8f84550be65c913382a52f1",
       "version_major": 2,
       "version_minor": 0
      },
      "text/plain": [
       "  0%|          | 0/17 [00:00<?, ?it/s]"
      ]
     },
     "metadata": {},
     "output_type": "display_data"
    }
   ],
   "source": [
    "# Set up a progress bar in our for loop.\n",
    "for i in tqdm_notebook(range(n_pages)):\n",
    "    # adds 200 ms pause\n",
    "    time.sleep(.2) \n"
   ]
  },
  {
   "cell_type": "code",
   "execution_count": 27,
   "id": "ad9ab1d9",
   "metadata": {},
   "outputs": [
    {
     "data": {
      "application/vnd.jupyter.widget-view+json": {
       "model_id": "129b8650073a491c86d813cfa1b32f5c",
       "version_major": 2,
       "version_minor": 0
      },
      "text/plain": [
       "  0%|          | 0/17 [00:00<?, ?it/s]"
      ]
     },
     "metadata": {},
     "output_type": "display_data"
    }
   ],
   "source": [
    "for i in tqdm_notebook( range(1,n_pages+1)):\n",
    "    \n",
    "    ## Read in results in progress file and check the length\n",
    "    with open(JSON_FILE, 'r') as f:\n",
    "        previous_results = json.load(f)\n",
    "    ## save number of results for to use as offset\n",
    "    n_results = len(previous_results)\n",
    "    ## use n_results as the OFFSET \n",
    "    results = yelp_api.search_query(location=LOCATION,\n",
    "                                    term=TERM, \n",
    "                                    offset=n_results)\n",
    "    \n",
    "    ## append new results and save to file\n",
    "    previous_results.extend(results['businesses'])\n",
    "    \n",
    "    with open(JSON_FILE,'w') as f:\n",
    "        json.dump(previous_results,f)\n",
    "    \n",
    "    # add a 200ms pause\n",
    "    time.sleep(.2)"
   ]
  },
  {
   "cell_type": "code",
   "execution_count": 29,
   "id": "0bbf7134",
   "metadata": {},
   "outputs": [
    {
     "data": {
      "text/html": [
       "<div>\n",
       "<style scoped>\n",
       "    .dataframe tbody tr th:only-of-type {\n",
       "        vertical-align: middle;\n",
       "    }\n",
       "\n",
       "    .dataframe tbody tr th {\n",
       "        vertical-align: top;\n",
       "    }\n",
       "\n",
       "    .dataframe thead th {\n",
       "        text-align: right;\n",
       "    }\n",
       "</style>\n",
       "<table border=\"1\" class=\"dataframe\">\n",
       "  <thead>\n",
       "    <tr style=\"text-align: right;\">\n",
       "      <th></th>\n",
       "      <th>id</th>\n",
       "      <th>alias</th>\n",
       "      <th>name</th>\n",
       "      <th>image_url</th>\n",
       "      <th>is_closed</th>\n",
       "      <th>url</th>\n",
       "      <th>review_count</th>\n",
       "      <th>categories</th>\n",
       "      <th>rating</th>\n",
       "      <th>coordinates</th>\n",
       "      <th>transactions</th>\n",
       "      <th>price</th>\n",
       "      <th>location</th>\n",
       "      <th>phone</th>\n",
       "      <th>display_phone</th>\n",
       "      <th>distance</th>\n",
       "    </tr>\n",
       "  </thead>\n",
       "  <tbody>\n",
       "    <tr>\n",
       "      <th>0</th>\n",
       "      <td>0RPeIss97n3DcvDkRiWDew</td>\n",
       "      <td>la-gare-café-perris-3</td>\n",
       "      <td>La Gare Café</td>\n",
       "      <td>https://s3-media2.fl.yelpcdn.com/bphoto/WnA4Y4...</td>\n",
       "      <td>False</td>\n",
       "      <td>https://www.yelp.com/biz/la-gare-caf%C3%A9-per...</td>\n",
       "      <td>435</td>\n",
       "      <td>[{'alias': 'coffee', 'title': 'Coffee &amp; Tea'},...</td>\n",
       "      <td>4.5</td>\n",
       "      <td>{'latitude': 33.785825201397195, 'longitude': ...</td>\n",
       "      <td>[delivery]</td>\n",
       "      <td>$</td>\n",
       "      <td>{'address1': '24 S D St', 'address2': '', 'add...</td>\n",
       "      <td>+19517224528</td>\n",
       "      <td>(951) 722-4528</td>\n",
       "      <td>1015.862022</td>\n",
       "    </tr>\n",
       "    <tr>\n",
       "      <th>1</th>\n",
       "      <td>yeFr8HVNS_vqiUCeqxO0Wg</td>\n",
       "      <td>family-basket-perris</td>\n",
       "      <td>Family Basket</td>\n",
       "      <td>https://s3-media3.fl.yelpcdn.com/bphoto/rju8-g...</td>\n",
       "      <td>False</td>\n",
       "      <td>https://www.yelp.com/biz/family-basket-perris?...</td>\n",
       "      <td>85</td>\n",
       "      <td>[{'alias': 'burgers', 'title': 'Burgers'}]</td>\n",
       "      <td>3.5</td>\n",
       "      <td>{'latitude': 33.77957, 'longitude': -117.24491}</td>\n",
       "      <td>[delivery]</td>\n",
       "      <td>$</td>\n",
       "      <td>{'address1': '670 W 7th St', 'address2': '', '...</td>\n",
       "      <td>+19519435050</td>\n",
       "      <td>(951) 943-5050</td>\n",
       "      <td>2645.503539</td>\n",
       "    </tr>\n",
       "    <tr>\n",
       "      <th>2</th>\n",
       "      <td>YjQMmFMNKLSsiPekmQ03TQ</td>\n",
       "      <td>the-bombshelter-perris-3</td>\n",
       "      <td>The Bombshelter</td>\n",
       "      <td>https://s3-media4.fl.yelpcdn.com/bphoto/vHKjIk...</td>\n",
       "      <td>False</td>\n",
       "      <td>https://www.yelp.com/biz/the-bombshelter-perri...</td>\n",
       "      <td>84</td>\n",
       "      <td>[{'alias': 'sportsbars', 'title': 'Sports Bars...</td>\n",
       "      <td>4.0</td>\n",
       "      <td>{'latitude': 33.76211525746504, 'longitude': -...</td>\n",
       "      <td>[delivery]</td>\n",
       "      <td>$</td>\n",
       "      <td>{'address1': '2091 Goetz Rd', 'address2': '', ...</td>\n",
       "      <td>+19519434863</td>\n",
       "      <td>(951) 943-4863</td>\n",
       "      <td>3351.608634</td>\n",
       "    </tr>\n",
       "    <tr>\n",
       "      <th>3</th>\n",
       "      <td>niPP2tmMHfWhB5_wKVr7ow</td>\n",
       "      <td>tastee-freez-perris-2</td>\n",
       "      <td>Tastee Freez</td>\n",
       "      <td>https://s3-media2.fl.yelpcdn.com/bphoto/GsgAHv...</td>\n",
       "      <td>False</td>\n",
       "      <td>https://www.yelp.com/biz/tastee-freez-perris-2...</td>\n",
       "      <td>52</td>\n",
       "      <td>[{'alias': 'tradamerican', 'title': 'American ...</td>\n",
       "      <td>4.0</td>\n",
       "      <td>{'latitude': 33.782748, 'longitude': -117.226861}</td>\n",
       "      <td>[delivery]</td>\n",
       "      <td>$</td>\n",
       "      <td>{'address1': '168 E 4th St', 'address2': '', '...</td>\n",
       "      <td>+19516575018</td>\n",
       "      <td>(951) 657-5018</td>\n",
       "      <td>1198.828133</td>\n",
       "    </tr>\n",
       "    <tr>\n",
       "      <th>4</th>\n",
       "      <td>R-GUJVKJmRZYc4XNoeVODg</td>\n",
       "      <td>gus-jr-perris</td>\n",
       "      <td>Gus Jr</td>\n",
       "      <td>https://s3-media3.fl.yelpcdn.com/bphoto/zj0zUF...</td>\n",
       "      <td>False</td>\n",
       "      <td>https://www.yelp.com/biz/gus-jr-perris?adjust_...</td>\n",
       "      <td>158</td>\n",
       "      <td>[{'alias': 'breakfast_brunch', 'title': 'Break...</td>\n",
       "      <td>2.5</td>\n",
       "      <td>{'latitude': 33.7820583429796, 'longitude': -1...</td>\n",
       "      <td>[pickup, delivery]</td>\n",
       "      <td>$</td>\n",
       "      <td>{'address1': '497 E 4th St', 'address2': '', '...</td>\n",
       "      <td>+19516573728</td>\n",
       "      <td>(951) 657-3728</td>\n",
       "      <td>1136.328607</td>\n",
       "    </tr>\n",
       "  </tbody>\n",
       "</table>\n",
       "</div>"
      ],
      "text/plain": [
       "                       id                     alias             name  \\\n",
       "0  0RPeIss97n3DcvDkRiWDew     la-gare-café-perris-3     La Gare Café   \n",
       "1  yeFr8HVNS_vqiUCeqxO0Wg      family-basket-perris    Family Basket   \n",
       "2  YjQMmFMNKLSsiPekmQ03TQ  the-bombshelter-perris-3  The Bombshelter   \n",
       "3  niPP2tmMHfWhB5_wKVr7ow     tastee-freez-perris-2     Tastee Freez   \n",
       "4  R-GUJVKJmRZYc4XNoeVODg             gus-jr-perris           Gus Jr   \n",
       "\n",
       "                                           image_url  is_closed  \\\n",
       "0  https://s3-media2.fl.yelpcdn.com/bphoto/WnA4Y4...      False   \n",
       "1  https://s3-media3.fl.yelpcdn.com/bphoto/rju8-g...      False   \n",
       "2  https://s3-media4.fl.yelpcdn.com/bphoto/vHKjIk...      False   \n",
       "3  https://s3-media2.fl.yelpcdn.com/bphoto/GsgAHv...      False   \n",
       "4  https://s3-media3.fl.yelpcdn.com/bphoto/zj0zUF...      False   \n",
       "\n",
       "                                                 url  review_count  \\\n",
       "0  https://www.yelp.com/biz/la-gare-caf%C3%A9-per...           435   \n",
       "1  https://www.yelp.com/biz/family-basket-perris?...            85   \n",
       "2  https://www.yelp.com/biz/the-bombshelter-perri...            84   \n",
       "3  https://www.yelp.com/biz/tastee-freez-perris-2...            52   \n",
       "4  https://www.yelp.com/biz/gus-jr-perris?adjust_...           158   \n",
       "\n",
       "                                          categories  rating  \\\n",
       "0  [{'alias': 'coffee', 'title': 'Coffee & Tea'},...     4.5   \n",
       "1         [{'alias': 'burgers', 'title': 'Burgers'}]     3.5   \n",
       "2  [{'alias': 'sportsbars', 'title': 'Sports Bars...     4.0   \n",
       "3  [{'alias': 'tradamerican', 'title': 'American ...     4.0   \n",
       "4  [{'alias': 'breakfast_brunch', 'title': 'Break...     2.5   \n",
       "\n",
       "                                         coordinates        transactions  \\\n",
       "0  {'latitude': 33.785825201397195, 'longitude': ...          [delivery]   \n",
       "1    {'latitude': 33.77957, 'longitude': -117.24491}          [delivery]   \n",
       "2  {'latitude': 33.76211525746504, 'longitude': -...          [delivery]   \n",
       "3  {'latitude': 33.782748, 'longitude': -117.226861}          [delivery]   \n",
       "4  {'latitude': 33.7820583429796, 'longitude': -1...  [pickup, delivery]   \n",
       "\n",
       "  price                                           location         phone  \\\n",
       "0     $  {'address1': '24 S D St', 'address2': '', 'add...  +19517224528   \n",
       "1     $  {'address1': '670 W 7th St', 'address2': '', '...  +19519435050   \n",
       "2     $  {'address1': '2091 Goetz Rd', 'address2': '', ...  +19519434863   \n",
       "3     $  {'address1': '168 E 4th St', 'address2': '', '...  +19516575018   \n",
       "4     $  {'address1': '497 E 4th St', 'address2': '', '...  +19516573728   \n",
       "\n",
       "    display_phone     distance  \n",
       "0  (951) 722-4528  1015.862022  \n",
       "1  (951) 943-5050  2645.503539  \n",
       "2  (951) 943-4863  3351.608634  \n",
       "3  (951) 657-5018  1198.828133  \n",
       "4  (951) 657-3728  1136.328607  "
      ]
     },
     "metadata": {},
     "output_type": "display_data"
    },
    {
     "data": {
      "text/html": [
       "<div>\n",
       "<style scoped>\n",
       "    .dataframe tbody tr th:only-of-type {\n",
       "        vertical-align: middle;\n",
       "    }\n",
       "\n",
       "    .dataframe tbody tr th {\n",
       "        vertical-align: top;\n",
       "    }\n",
       "\n",
       "    .dataframe thead th {\n",
       "        text-align: right;\n",
       "    }\n",
       "</style>\n",
       "<table border=\"1\" class=\"dataframe\">\n",
       "  <thead>\n",
       "    <tr style=\"text-align: right;\">\n",
       "      <th></th>\n",
       "      <th>id</th>\n",
       "      <th>alias</th>\n",
       "      <th>name</th>\n",
       "      <th>image_url</th>\n",
       "      <th>is_closed</th>\n",
       "      <th>url</th>\n",
       "      <th>review_count</th>\n",
       "      <th>categories</th>\n",
       "      <th>rating</th>\n",
       "      <th>coordinates</th>\n",
       "      <th>transactions</th>\n",
       "      <th>price</th>\n",
       "      <th>location</th>\n",
       "      <th>phone</th>\n",
       "      <th>display_phone</th>\n",
       "      <th>distance</th>\n",
       "    </tr>\n",
       "  </thead>\n",
       "  <tbody>\n",
       "    <tr>\n",
       "      <th>335</th>\n",
       "      <td>-AeAGbYMDJT9LHDn7vaRZg</td>\n",
       "      <td>kfc-lake-elsinore-3</td>\n",
       "      <td>KFC</td>\n",
       "      <td>https://s3-media2.fl.yelpcdn.com/bphoto/dHchnd...</td>\n",
       "      <td>False</td>\n",
       "      <td>https://www.yelp.com/biz/kfc-lake-elsinore-3?a...</td>\n",
       "      <td>110</td>\n",
       "      <td>[{'alias': 'hotdogs', 'title': 'Fast Food'}, {...</td>\n",
       "      <td>2.5</td>\n",
       "      <td>{'latitude': 33.664066, 'longitude': -117.298995}</td>\n",
       "      <td>[pickup, delivery]</td>\n",
       "      <td>$</td>\n",
       "      <td>{'address1': '321 Summerhill Dr', 'address2': ...</td>\n",
       "      <td>+19512454060</td>\n",
       "      <td>(951) 245-4060</td>\n",
       "      <td>15988.184403</td>\n",
       "    </tr>\n",
       "    <tr>\n",
       "      <th>336</th>\n",
       "      <td>Yu_ynVWHfA5NThYHbEwQyA</td>\n",
       "      <td>del-taco-riverside-3</td>\n",
       "      <td>Del Taco</td>\n",
       "      <td>https://s3-media3.fl.yelpcdn.com/bphoto/5MtPbd...</td>\n",
       "      <td>False</td>\n",
       "      <td>https://www.yelp.com/biz/del-taco-riverside-3?...</td>\n",
       "      <td>69</td>\n",
       "      <td>[{'alias': 'mexican', 'title': 'Mexican'}]</td>\n",
       "      <td>2.0</td>\n",
       "      <td>{'latitude': 33.952983, 'longitude': -117.38829}</td>\n",
       "      <td>[pickup, delivery]</td>\n",
       "      <td>$</td>\n",
       "      <td>{'address1': '6333 Riverside Ave', 'address2':...</td>\n",
       "      <td>+19516826333</td>\n",
       "      <td>(951) 682-6333</td>\n",
       "      <td>23649.995465</td>\n",
       "    </tr>\n",
       "    <tr>\n",
       "      <th>337</th>\n",
       "      <td>HbISHXpHe6dgH0gAGkImgw</td>\n",
       "      <td>del-taco-riverside-2</td>\n",
       "      <td>Del Taco</td>\n",
       "      <td>https://s3-media1.fl.yelpcdn.com/bphoto/Wrh3tm...</td>\n",
       "      <td>False</td>\n",
       "      <td>https://www.yelp.com/biz/del-taco-riverside-2?...</td>\n",
       "      <td>75</td>\n",
       "      <td>[{'alias': 'mexican', 'title': 'Mexican'}]</td>\n",
       "      <td>3.5</td>\n",
       "      <td>{'latitude': 33.945747, 'longitude': -117.417571}</td>\n",
       "      <td>[pickup, delivery]</td>\n",
       "      <td>$</td>\n",
       "      <td>{'address1': '5290 Arlington Ave', 'address2':...</td>\n",
       "      <td>+19516875397</td>\n",
       "      <td>(951) 687-5397</td>\n",
       "      <td>24936.246917</td>\n",
       "    </tr>\n",
       "    <tr>\n",
       "      <th>338</th>\n",
       "      <td>yvOH4DAbIJVq4BPso8qJYg</td>\n",
       "      <td>del-taco-riverside-9</td>\n",
       "      <td>Del Taco</td>\n",
       "      <td>https://s3-media2.fl.yelpcdn.com/bphoto/3wkN5J...</td>\n",
       "      <td>False</td>\n",
       "      <td>https://www.yelp.com/biz/del-taco-riverside-9?...</td>\n",
       "      <td>38</td>\n",
       "      <td>[{'alias': 'mexican', 'title': 'Mexican'}]</td>\n",
       "      <td>2.5</td>\n",
       "      <td>{'latitude': 33.94688, 'longitude': -117.38676}</td>\n",
       "      <td>[pickup, delivery]</td>\n",
       "      <td>$</td>\n",
       "      <td>{'address1': '3487 Arlington Ave', 'address2':...</td>\n",
       "      <td>+19513691127</td>\n",
       "      <td>(951) 369-1127</td>\n",
       "      <td>23050.387799</td>\n",
       "    </tr>\n",
       "    <tr>\n",
       "      <th>339</th>\n",
       "      <td>H35Uj92N9aKeuolQopPvgQ</td>\n",
       "      <td>del-taco-lake-elsinore-2</td>\n",
       "      <td>Del Taco</td>\n",
       "      <td>https://s3-media2.fl.yelpcdn.com/bphoto/qRcRk1...</td>\n",
       "      <td>False</td>\n",
       "      <td>https://www.yelp.com/biz/del-taco-lake-elsinor...</td>\n",
       "      <td>99</td>\n",
       "      <td>[{'alias': 'mexican', 'title': 'Mexican'}]</td>\n",
       "      <td>2.0</td>\n",
       "      <td>{'latitude': 33.65682, 'longitude': -117.29777}</td>\n",
       "      <td>[pickup, delivery]</td>\n",
       "      <td>$</td>\n",
       "      <td>{'address1': '31904 Mission Trl', 'address2': ...</td>\n",
       "      <td>+19516745771</td>\n",
       "      <td>(951) 674-5771</td>\n",
       "      <td>16653.683258</td>\n",
       "    </tr>\n",
       "  </tbody>\n",
       "</table>\n",
       "</div>"
      ],
      "text/plain": [
       "                         id                     alias      name  \\\n",
       "335  -AeAGbYMDJT9LHDn7vaRZg       kfc-lake-elsinore-3       KFC   \n",
       "336  Yu_ynVWHfA5NThYHbEwQyA      del-taco-riverside-3  Del Taco   \n",
       "337  HbISHXpHe6dgH0gAGkImgw      del-taco-riverside-2  Del Taco   \n",
       "338  yvOH4DAbIJVq4BPso8qJYg      del-taco-riverside-9  Del Taco   \n",
       "339  H35Uj92N9aKeuolQopPvgQ  del-taco-lake-elsinore-2  Del Taco   \n",
       "\n",
       "                                             image_url  is_closed  \\\n",
       "335  https://s3-media2.fl.yelpcdn.com/bphoto/dHchnd...      False   \n",
       "336  https://s3-media3.fl.yelpcdn.com/bphoto/5MtPbd...      False   \n",
       "337  https://s3-media1.fl.yelpcdn.com/bphoto/Wrh3tm...      False   \n",
       "338  https://s3-media2.fl.yelpcdn.com/bphoto/3wkN5J...      False   \n",
       "339  https://s3-media2.fl.yelpcdn.com/bphoto/qRcRk1...      False   \n",
       "\n",
       "                                                   url  review_count  \\\n",
       "335  https://www.yelp.com/biz/kfc-lake-elsinore-3?a...           110   \n",
       "336  https://www.yelp.com/biz/del-taco-riverside-3?...            69   \n",
       "337  https://www.yelp.com/biz/del-taco-riverside-2?...            75   \n",
       "338  https://www.yelp.com/biz/del-taco-riverside-9?...            38   \n",
       "339  https://www.yelp.com/biz/del-taco-lake-elsinor...            99   \n",
       "\n",
       "                                            categories  rating  \\\n",
       "335  [{'alias': 'hotdogs', 'title': 'Fast Food'}, {...     2.5   \n",
       "336         [{'alias': 'mexican', 'title': 'Mexican'}]     2.0   \n",
       "337         [{'alias': 'mexican', 'title': 'Mexican'}]     3.5   \n",
       "338         [{'alias': 'mexican', 'title': 'Mexican'}]     2.5   \n",
       "339         [{'alias': 'mexican', 'title': 'Mexican'}]     2.0   \n",
       "\n",
       "                                           coordinates        transactions  \\\n",
       "335  {'latitude': 33.664066, 'longitude': -117.298995}  [pickup, delivery]   \n",
       "336   {'latitude': 33.952983, 'longitude': -117.38829}  [pickup, delivery]   \n",
       "337  {'latitude': 33.945747, 'longitude': -117.417571}  [pickup, delivery]   \n",
       "338    {'latitude': 33.94688, 'longitude': -117.38676}  [pickup, delivery]   \n",
       "339    {'latitude': 33.65682, 'longitude': -117.29777}  [pickup, delivery]   \n",
       "\n",
       "    price                                           location         phone  \\\n",
       "335     $  {'address1': '321 Summerhill Dr', 'address2': ...  +19512454060   \n",
       "336     $  {'address1': '6333 Riverside Ave', 'address2':...  +19516826333   \n",
       "337     $  {'address1': '5290 Arlington Ave', 'address2':...  +19516875397   \n",
       "338     $  {'address1': '3487 Arlington Ave', 'address2':...  +19513691127   \n",
       "339     $  {'address1': '31904 Mission Trl', 'address2': ...  +19516745771   \n",
       "\n",
       "      display_phone      distance  \n",
       "335  (951) 245-4060  15988.184403  \n",
       "336  (951) 682-6333  23649.995465  \n",
       "337  (951) 687-5397  24936.246917  \n",
       "338  (951) 369-1127  23050.387799  \n",
       "339  (951) 674-5771  16653.683258  "
      ]
     },
     "metadata": {},
     "output_type": "display_data"
    }
   ],
   "source": [
    "# load final results\n",
    "final_df = pd.read_json(JSON_FILE)\n",
    "display(final_df.head(), final_df.tail())\n"
   ]
  },
  {
   "cell_type": "code",
   "execution_count": 32,
   "id": "84c6630b",
   "metadata": {},
   "outputs": [
    {
     "data": {
      "text/plain": [
       "0"
      ]
     },
     "execution_count": 32,
     "metadata": {},
     "output_type": "execute_result"
    }
   ],
   "source": [
    "# check for duplicate ID's \n",
    "final_df.duplicated(subset='id').sum()\n"
   ]
  },
  {
   "cell_type": "code",
   "execution_count": 33,
   "id": "fa8b9159",
   "metadata": {},
   "outputs": [],
   "source": [
    "# save the final results to a compressed csv\n",
    "final_df.to_csv('Data/final_results_perris_burgers.csv.gz', \n",
    "                compression='gzip',index=False)\n",
    "\n"
   ]
  },
  {
   "cell_type": "markdown",
   "id": "44d8e0cc",
   "metadata": {},
   "source": [
    "## First Way"
   ]
  },
  {
   "cell_type": "code",
   "execution_count": 8,
   "id": "a8dde386",
   "metadata": {},
   "outputs": [
    {
     "name": "stdout",
     "output_type": "stream",
     "text": [
      "<class 'dict'>\n"
     ]
    },
    {
     "data": {
      "text/plain": [
       "dict_keys(['businesses', 'total', 'region'])"
      ]
     },
     "execution_count": 8,
     "metadata": {},
     "output_type": "execute_result"
    }
   ],
   "source": [
    "# Query of my area and food choice\n",
    "results = yelp_api.search_query(location='Perris, CA',\n",
    "                                       term='Burgers')\n",
    "print(type(results))\n",
    "results.keys()\n",
    "\n"
   ]
  },
  {
   "cell_type": "code",
   "execution_count": 9,
   "id": "06f082a1",
   "metadata": {},
   "outputs": [
    {
     "data": {
      "text/plain": [
       "340"
      ]
     },
     "execution_count": 9,
     "metadata": {},
     "output_type": "execute_result"
    }
   ],
   "source": [
    "## Search totals\n",
    "results['total']\n"
   ]
  },
  {
   "cell_type": "code",
   "execution_count": 10,
   "id": "50f971d6",
   "metadata": {},
   "outputs": [
    {
     "data": {
      "text/html": [
       "<div>\n",
       "<style scoped>\n",
       "    .dataframe tbody tr th:only-of-type {\n",
       "        vertical-align: middle;\n",
       "    }\n",
       "\n",
       "    .dataframe tbody tr th {\n",
       "        vertical-align: top;\n",
       "    }\n",
       "\n",
       "    .dataframe thead th {\n",
       "        text-align: right;\n",
       "    }\n",
       "</style>\n",
       "<table border=\"1\" class=\"dataframe\">\n",
       "  <thead>\n",
       "    <tr style=\"text-align: right;\">\n",
       "      <th></th>\n",
       "      <th>id</th>\n",
       "      <th>alias</th>\n",
       "      <th>name</th>\n",
       "      <th>image_url</th>\n",
       "      <th>is_closed</th>\n",
       "      <th>url</th>\n",
       "      <th>review_count</th>\n",
       "      <th>categories</th>\n",
       "      <th>rating</th>\n",
       "      <th>coordinates</th>\n",
       "      <th>transactions</th>\n",
       "      <th>price</th>\n",
       "      <th>location</th>\n",
       "      <th>phone</th>\n",
       "      <th>display_phone</th>\n",
       "      <th>distance</th>\n",
       "    </tr>\n",
       "  </thead>\n",
       "  <tbody>\n",
       "    <tr>\n",
       "      <th>0</th>\n",
       "      <td>0RPeIss97n3DcvDkRiWDew</td>\n",
       "      <td>la-gare-café-perris-3</td>\n",
       "      <td>La Gare Café</td>\n",
       "      <td>https://s3-media2.fl.yelpcdn.com/bphoto/WnA4Y4...</td>\n",
       "      <td>False</td>\n",
       "      <td>https://www.yelp.com/biz/la-gare-caf%C3%A9-per...</td>\n",
       "      <td>435</td>\n",
       "      <td>[{'alias': 'coffee', 'title': 'Coffee &amp; Tea'},...</td>\n",
       "      <td>4.5</td>\n",
       "      <td>{'latitude': 33.785825201397195, 'longitude': ...</td>\n",
       "      <td>[delivery]</td>\n",
       "      <td>$</td>\n",
       "      <td>{'address1': '24 S D St', 'address2': '', 'add...</td>\n",
       "      <td>+19517224528</td>\n",
       "      <td>(951) 722-4528</td>\n",
       "      <td>1015.862022</td>\n",
       "    </tr>\n",
       "    <tr>\n",
       "      <th>1</th>\n",
       "      <td>yeFr8HVNS_vqiUCeqxO0Wg</td>\n",
       "      <td>family-basket-perris</td>\n",
       "      <td>Family Basket</td>\n",
       "      <td>https://s3-media3.fl.yelpcdn.com/bphoto/rju8-g...</td>\n",
       "      <td>False</td>\n",
       "      <td>https://www.yelp.com/biz/family-basket-perris?...</td>\n",
       "      <td>85</td>\n",
       "      <td>[{'alias': 'burgers', 'title': 'Burgers'}]</td>\n",
       "      <td>3.5</td>\n",
       "      <td>{'latitude': 33.77957, 'longitude': -117.24491}</td>\n",
       "      <td>[delivery]</td>\n",
       "      <td>$</td>\n",
       "      <td>{'address1': '670 W 7th St', 'address2': '', '...</td>\n",
       "      <td>+19519435050</td>\n",
       "      <td>(951) 943-5050</td>\n",
       "      <td>2645.503539</td>\n",
       "    </tr>\n",
       "  </tbody>\n",
       "</table>\n",
       "</div>"
      ],
      "text/plain": [
       "                       id                  alias           name  \\\n",
       "0  0RPeIss97n3DcvDkRiWDew  la-gare-café-perris-3   La Gare Café   \n",
       "1  yeFr8HVNS_vqiUCeqxO0Wg   family-basket-perris  Family Basket   \n",
       "\n",
       "                                           image_url  is_closed  \\\n",
       "0  https://s3-media2.fl.yelpcdn.com/bphoto/WnA4Y4...      False   \n",
       "1  https://s3-media3.fl.yelpcdn.com/bphoto/rju8-g...      False   \n",
       "\n",
       "                                                 url  review_count  \\\n",
       "0  https://www.yelp.com/biz/la-gare-caf%C3%A9-per...           435   \n",
       "1  https://www.yelp.com/biz/family-basket-perris?...            85   \n",
       "\n",
       "                                          categories  rating  \\\n",
       "0  [{'alias': 'coffee', 'title': 'Coffee & Tea'},...     4.5   \n",
       "1         [{'alias': 'burgers', 'title': 'Burgers'}]     3.5   \n",
       "\n",
       "                                         coordinates transactions price  \\\n",
       "0  {'latitude': 33.785825201397195, 'longitude': ...   [delivery]     $   \n",
       "1    {'latitude': 33.77957, 'longitude': -117.24491}   [delivery]     $   \n",
       "\n",
       "                                            location         phone  \\\n",
       "0  {'address1': '24 S D St', 'address2': '', 'add...  +19517224528   \n",
       "1  {'address1': '670 W 7th St', 'address2': '', '...  +19519435050   \n",
       "\n",
       "    display_phone     distance  \n",
       "0  (951) 722-4528  1015.862022  \n",
       "1  (951) 943-5050  2645.503539  "
      ]
     },
     "execution_count": 10,
     "metadata": {},
     "output_type": "execute_result"
    }
   ],
   "source": [
    "# Results to DF\n",
    "burgers = pd.DataFrame(results['businesses'])\n",
    "burgers.head(2) \n"
   ]
  },
  {
   "cell_type": "code",
   "execution_count": 11,
   "id": "b903ec08",
   "metadata": {},
   "outputs": [
    {
     "data": {
      "text/plain": [
       "20"
      ]
     },
     "execution_count": 11,
     "metadata": {},
     "output_type": "execute_result"
    }
   ],
   "source": [
    "## how many businesses in our results\n",
    "len(results['businesses'])\n",
    "\n"
   ]
  },
  {
   "cell_type": "markdown",
   "id": "0e4f8126",
   "metadata": {},
   "source": [
    "Pagination and \"offset\""
   ]
  },
  {
   "cell_type": "markdown",
   "id": "ac14372d",
   "metadata": {},
   "source": [
    "Obtain ONLY the first two pages of results"
   ]
  },
  {
   "cell_type": "code",
   "execution_count": 12,
   "id": "39a17759",
   "metadata": {},
   "outputs": [],
   "source": [
    "# add offset to our original api call\n",
    "# account for page break?\n",
    "results_20 = yelp_api.search_query(location='Perris, CA',\n",
    "                                       term='Burgers',\n",
    "                                       offset = 20)\n",
    "\n"
   ]
  },
  {
   "cell_type": "code",
   "execution_count": 13,
   "id": "822970fe",
   "metadata": {},
   "outputs": [
    {
     "data": {
      "text/html": [
       "<div>\n",
       "<style scoped>\n",
       "    .dataframe tbody tr th:only-of-type {\n",
       "        vertical-align: middle;\n",
       "    }\n",
       "\n",
       "    .dataframe tbody tr th {\n",
       "        vertical-align: top;\n",
       "    }\n",
       "\n",
       "    .dataframe thead th {\n",
       "        text-align: right;\n",
       "    }\n",
       "</style>\n",
       "<table border=\"1\" class=\"dataframe\">\n",
       "  <thead>\n",
       "    <tr style=\"text-align: right;\">\n",
       "      <th></th>\n",
       "      <th>id</th>\n",
       "      <th>alias</th>\n",
       "      <th>name</th>\n",
       "      <th>image_url</th>\n",
       "      <th>is_closed</th>\n",
       "      <th>url</th>\n",
       "      <th>review_count</th>\n",
       "      <th>categories</th>\n",
       "      <th>rating</th>\n",
       "      <th>coordinates</th>\n",
       "      <th>transactions</th>\n",
       "      <th>price</th>\n",
       "      <th>location</th>\n",
       "      <th>phone</th>\n",
       "      <th>display_phone</th>\n",
       "      <th>distance</th>\n",
       "    </tr>\n",
       "  </thead>\n",
       "  <tbody>\n",
       "    <tr>\n",
       "      <th>0</th>\n",
       "      <td>JTuxFcWYzIjvLQe7qjSUZQ</td>\n",
       "      <td>jacks-bar-b-q-lake-elsinore-2</td>\n",
       "      <td>Jack's Bar-B-Q</td>\n",
       "      <td>https://s3-media2.fl.yelpcdn.com/bphoto/621cH3...</td>\n",
       "      <td>False</td>\n",
       "      <td>https://www.yelp.com/biz/jacks-bar-b-q-lake-el...</td>\n",
       "      <td>1263</td>\n",
       "      <td>[{'alias': 'bbq', 'title': 'Barbeque'}, {'alia...</td>\n",
       "      <td>4.0</td>\n",
       "      <td>{'latitude': 33.6738157425907, 'longitude': -1...</td>\n",
       "      <td>[delivery]</td>\n",
       "      <td>$$</td>\n",
       "      <td>{'address1': '1604 W Lakeshore Dr', 'address2'...</td>\n",
       "      <td>+19512456500</td>\n",
       "      <td>(951) 245-6500</td>\n",
       "      <td>17466.632370</td>\n",
       "    </tr>\n",
       "    <tr>\n",
       "      <th>1</th>\n",
       "      <td>na8kJ2ecDBYghMIsXWDO_A</td>\n",
       "      <td>flat-top-bar-and-grill-riverside-2</td>\n",
       "      <td>Flat Top Bar and Grill</td>\n",
       "      <td>https://s3-media3.fl.yelpcdn.com/bphoto/uw6Klv...</td>\n",
       "      <td>False</td>\n",
       "      <td>https://www.yelp.com/biz/flat-top-bar-and-gril...</td>\n",
       "      <td>317</td>\n",
       "      <td>[{'alias': 'pubs', 'title': 'Pubs'}, {'alias':...</td>\n",
       "      <td>4.0</td>\n",
       "      <td>{'latitude': 33.88548, 'longitude': -117.34994}</td>\n",
       "      <td>[delivery, pickup]</td>\n",
       "      <td>$$</td>\n",
       "      <td>{'address1': '17960 Van Buren Blvd', 'address2...</td>\n",
       "      <td>+19517800114</td>\n",
       "      <td>(951) 780-0114</td>\n",
       "      <td>15826.499025</td>\n",
       "    </tr>\n",
       "  </tbody>\n",
       "</table>\n",
       "</div>"
      ],
      "text/plain": [
       "                       id                               alias  \\\n",
       "0  JTuxFcWYzIjvLQe7qjSUZQ       jacks-bar-b-q-lake-elsinore-2   \n",
       "1  na8kJ2ecDBYghMIsXWDO_A  flat-top-bar-and-grill-riverside-2   \n",
       "\n",
       "                     name                                          image_url  \\\n",
       "0          Jack's Bar-B-Q  https://s3-media2.fl.yelpcdn.com/bphoto/621cH3...   \n",
       "1  Flat Top Bar and Grill  https://s3-media3.fl.yelpcdn.com/bphoto/uw6Klv...   \n",
       "\n",
       "   is_closed                                                url  review_count  \\\n",
       "0      False  https://www.yelp.com/biz/jacks-bar-b-q-lake-el...          1263   \n",
       "1      False  https://www.yelp.com/biz/flat-top-bar-and-gril...           317   \n",
       "\n",
       "                                          categories  rating  \\\n",
       "0  [{'alias': 'bbq', 'title': 'Barbeque'}, {'alia...     4.0   \n",
       "1  [{'alias': 'pubs', 'title': 'Pubs'}, {'alias':...     4.0   \n",
       "\n",
       "                                         coordinates        transactions  \\\n",
       "0  {'latitude': 33.6738157425907, 'longitude': -1...          [delivery]   \n",
       "1    {'latitude': 33.88548, 'longitude': -117.34994}  [delivery, pickup]   \n",
       "\n",
       "  price                                           location         phone  \\\n",
       "0    $$  {'address1': '1604 W Lakeshore Dr', 'address2'...  +19512456500   \n",
       "1    $$  {'address1': '17960 Van Buren Blvd', 'address2...  +19517800114   \n",
       "\n",
       "    display_phone      distance  \n",
       "0  (951) 245-6500  17466.632370  \n",
       "1  (951) 780-0114  15826.499025  "
      ]
     },
     "execution_count": 13,
     "metadata": {},
     "output_type": "execute_result"
    }
   ],
   "source": [
    "burgers20 = pd.DataFrame(results_20['businesses'])\n",
    "burgers20.head(2)\n",
    "\n"
   ]
  },
  {
   "cell_type": "markdown",
   "id": "ba79bb67",
   "metadata": {},
   "source": [
    "Save the businesses as a records-oriented JSON file. (df.to_json(orient='records'))"
   ]
  },
  {
   "cell_type": "code",
   "execution_count": null,
   "id": "e868749a",
   "metadata": {},
   "outputs": [],
   "source": [
    "all_burgers.to_json(orient= 'records')"
   ]
  },
  {
   "cell_type": "markdown",
   "id": "e3a18b82",
   "metadata": {},
   "source": [
    "Concatenate the results into one data frame"
   ]
  },
  {
   "cell_type": "code",
   "execution_count": null,
   "id": "5aa8940a",
   "metadata": {},
   "outputs": [],
   "source": [
    "## concatenate the previous results and new results. \n",
    "all_burgers = pd.concat([burgers, burgers20],\n",
    "                      ignore_index=True)\n",
    "display(all_burgers.head(3), all_burgers.tail(3))\n",
    "\n"
   ]
  },
  {
   "cell_type": "code",
   "execution_count": null,
   "id": "227146af",
   "metadata": {},
   "outputs": [],
   "source": [
    "# To save data\n",
    "with open('/Users/kristinadibella/.secret/yelp_api.json','w') as f: \n",
    "    json.dump(all_burgers, f)"
   ]
  }
 ],
 "metadata": {
  "kernelspec": {
   "display_name": "Python (dojo-env)",
   "language": "python",
   "name": "dojo-env"
  },
  "language_info": {
   "codemirror_mode": {
    "name": "ipython",
    "version": 3
   },
   "file_extension": ".py",
   "mimetype": "text/x-python",
   "name": "python",
   "nbconvert_exporter": "python",
   "pygments_lexer": "ipython3",
   "version": "3.9.15"
  },
  "toc": {
   "base_numbering": 1,
   "nav_menu": {},
   "number_sections": true,
   "sideBar": true,
   "skip_h1_title": false,
   "title_cell": "Table of Contents",
   "title_sidebar": "Contents",
   "toc_cell": false,
   "toc_position": {},
   "toc_section_display": true,
   "toc_window_display": false
  }
 },
 "nbformat": 4,
 "nbformat_minor": 5
}
